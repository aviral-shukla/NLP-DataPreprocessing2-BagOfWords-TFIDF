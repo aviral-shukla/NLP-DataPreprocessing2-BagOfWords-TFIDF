{
 "cells": [
  {
   "cell_type": "code",
   "execution_count": 1,
   "metadata": {},
   "outputs": [],
   "source": [
    "import nltk"
   ]
  },
  {
   "cell_type": "code",
   "execution_count": 2,
   "metadata": {},
   "outputs": [],
   "source": [
    "paragraph=\"\"\"Bhagavad Gita is often known as “geet” or song of the Divine, sung by Lord Krishna.\n",
    "The essence of Bhagavad Gita comes to us when we start recognising it humbly, paying obeisances to it and have direct liaison with it. The Bhagavad Gita also known as tri marga (three ways to attain liberation) was magnificently imparted by Lord Krishna to Mahatama Arjuna. Krishna stands for pure attraction and attainment and Arjuna stands for Average human being. So Bhagavad Gita is for every human being for accomplishing salvation. The Gita is the crux of all Vedas, Puranas and other holy books. The 18 chapters of Bhagavad Gita are segregated into three main categories that’s why its known as trimarga as stated earlier. The three main categories include karma yoga, Bhakti yoga and jyana yoga. The chapter one depicts the battlefield of kurukshetra and the position of principal warriors on both sides with their fighting qualities and Arjuna overwhelmed by infatuations gives expression to his faint heartedness, tenderness and grief. The chapter second gives a glimpse of the whole Gita i.e. summary of the Gita and it’s in the preliminary stage so as to make an individual aware of his/her objectives of the life very much clear and blatant. The sankhyayoga (the yoga of knowledge) should be instilled in the minds of the being at the very start of their life. The siddhant or basic principles of life should be set forth.\n",
    "The essence of Bhagadvad Gita is in each verse and each verse comprises of some words and each word comprises of an alphabet. The chapters’ three to six divulges Karma Yoga (the yoga of actions) i.e. how to perform routine work and how it should be converted into swadharma. Here Lord Krishna addresses the significance of karma (work) which should be completely surrendered to divine and deals with just doing the work without expectations of the fruits. The essence lies when each and every petty work is done for Krishna. Thus our Karma becomes Karma yoga just by offering every action unto HIM.\n",
    "Further, the essence of Bhagavad Gita lies in next six chapters i.e. chapter seven to twelve, which stands for Bhakti Yoga (the Yoga of Devotion), wherein it’s started that we should remember God or Krishna every time. Its not like sitting for five, ten minutes in front of deity and judging oneself as excellent bhakta (Devotee of God), but its twenty four hours remembering known as chintan.\n",
    "The last main category again comprises of six chapters i.e. chapter thirteen to eighteen which stands for jyana Yoga (the Yoga of Knowledge). Which I consider as true knowledge” (Chapter 13, Verse 1 & 2). So, the verses make it very clear that to know the “Self” is the true knowledge than only one could be gyani (knowledgeable). Further, the Gunas (qualities) of material nature is disclosed in terms of Sattva, Rajas and Tamas having their own significance in everybody’s life. Lord even says that Gyani is my true reflection, i.e. whatever he says is completely and obligingly adhered by the society at large.\n",
    "It now becomes easy for us to choose any of the three means and ways to attain liberation. Now which one could be better is also so enunciated and elicited by Lord Krishna where He beholds “Knowledge is better than practice without discernment, meditation on God is superior to knowledge, and renunciation of the fruit of actions is even superior to meditation: for, peace immediately follows renunciation” (Chapter 12, Verse 12). So, attaining liberation by becoming Karmayogi is the preferred one as clearly exposed by the Lord. The next is to remember “Krishna” in order to attain HIM, this could be done with the assistance of one of the verses that “Fix your mind on Me, and establish your intellect in Me alone, thereafter you will abide solely in Me. There is no doubt in it” (Chapter 12, Verse 8).\n",
    "So, one can choose any of the three segregations and start firstly reading it and then implementing it practically into ones life and then only we can taste real essence of Bhagavad Gita. \"\"\""
   ]
  },
  {
   "cell_type": "code",
   "execution_count": 65,
   "metadata": {},
   "outputs": [
    {
     "name": "stdout",
     "output_type": "stream",
     "text": [
      "['The essence of Bhagavad Gita comes to us when we start recognising it humbly, paying obeisances to it and have direct liaison with it.', 'The Bhagavad Gita also known as tri marga (three ways to attain liberation) was magnificently imparted by Lord Krishna to Mahatama Arjuna.', 'Krishna stands for pure attraction and attainment and Arjuna stands for Average human being.', 'So Bhagavad Gita is for every human being for accomplishing salvation.']\n"
     ]
    },
    {
     "data": {
      "text/plain": [
       "['essence bhagavad gita come u start recognising humbly paying obeisance direct liaison',\n",
       " 'bhagavad gita also known tri marga three way attain liberation magnificently imparted lord krishna mahatama arjuna',\n",
       " 'krishna stand pure attraction attainment arjuna stand average human',\n",
       " 'bhagavad gita every human accomplishing salvation']"
      ]
     },
     "execution_count": 65,
     "metadata": {},
     "output_type": "execute_result"
    }
   ],
   "source": [
    "#Removing all other characters other than a to z and A to Z and then lower casing the whole text and then Stemming it\n",
    "import re\n",
    "from nltk.corpus import stopwords\n",
    "from nltk.stem.porter import PorterStemmer\n",
    "from nltk.stem import WordNetLemmatizer\n",
    "\n",
    "ps=PorterStemmer()\n",
    "wordnet=WordNetLemmatizer()\n",
    "\n",
    "sentences=nltk.sent_tokenize(paragraph) #convert text into token sentences\n",
    "print(sentences[1:5])\n",
    "\n",
    "corpus=[] #list to store the words after data preprocessing level 1\n",
    "\n",
    "for i in range(len(sentences)):\n",
    "    tmp=re.sub('[^a-zA-Z]',' ',sentences[i]) #all characters other than a to z and A to Z will be replaced by a space\n",
    "    tmp=tmp.lower()\n",
    "    tmp=tmp.split()\n",
    "    tmp=[wordnet.lemmatize(word) for word in tmp if not word in set(stopwords.words('english'))]\n",
    "    tmp=' '.join(tmp)\n",
    "    corpus.append(tmp)\n",
    "corpus[1:5]"
   ]
  },
  {
   "cell_type": "markdown",
   "metadata": {},
   "source": [
    "# BAG OF WORDS - COUNT VECTORIZER"
   ]
  },
  {
   "cell_type": "code",
   "execution_count": 66,
   "metadata": {},
   "outputs": [],
   "source": [
    "#Bag Of Words modelling using CountVectorizer\n",
    "from sklearn.feature_extraction.text import CountVectorizer\n",
    "cv=CountVectorizer(max_features=1500)\n",
    "BOW_documentum_matrix=cv.fit_transform(corpus).toarray()\n",
    "feature_names=cv.get_feature_names()"
   ]
  },
  {
   "cell_type": "code",
   "execution_count": 80,
   "metadata": {},
   "outputs": [
    {
     "data": {
      "text/html": [
       "<div>\n",
       "<style scoped>\n",
       "    .dataframe tbody tr th:only-of-type {\n",
       "        vertical-align: middle;\n",
       "    }\n",
       "\n",
       "    .dataframe tbody tr th {\n",
       "        vertical-align: top;\n",
       "    }\n",
       "\n",
       "    .dataframe thead th {\n",
       "        text-align: right;\n",
       "    }\n",
       "</style>\n",
       "<table border=\"1\" class=\"dataframe\">\n",
       "  <thead>\n",
       "    <tr style=\"text-align: right;\">\n",
       "      <th></th>\n",
       "      <th>cv</th>\n",
       "    </tr>\n",
       "  </thead>\n",
       "  <tbody>\n",
       "    <tr>\n",
       "      <th>abide</th>\n",
       "      <td>0</td>\n",
       "    </tr>\n",
       "    <tr>\n",
       "      <th>overwhelmed</th>\n",
       "      <td>0</td>\n",
       "    </tr>\n",
       "    <tr>\n",
       "      <th>paying</th>\n",
       "      <td>0</td>\n",
       "    </tr>\n",
       "    <tr>\n",
       "      <th>peace</th>\n",
       "      <td>0</td>\n",
       "    </tr>\n",
       "    <tr>\n",
       "      <th>perform</th>\n",
       "      <td>0</td>\n",
       "    </tr>\n",
       "    <tr>\n",
       "      <th>...</th>\n",
       "      <td>...</td>\n",
       "    </tr>\n",
       "    <tr>\n",
       "      <th>bhagavad</th>\n",
       "      <td>1</td>\n",
       "    </tr>\n",
       "    <tr>\n",
       "      <th>geet</th>\n",
       "      <td>1</td>\n",
       "    </tr>\n",
       "    <tr>\n",
       "      <th>gita</th>\n",
       "      <td>1</td>\n",
       "    </tr>\n",
       "    <tr>\n",
       "      <th>lord</th>\n",
       "      <td>1</td>\n",
       "    </tr>\n",
       "    <tr>\n",
       "      <th>known</th>\n",
       "      <td>1</td>\n",
       "    </tr>\n",
       "  </tbody>\n",
       "</table>\n",
       "<p>216 rows × 1 columns</p>\n",
       "</div>"
      ],
      "text/plain": [
       "             cv\n",
       "abide         0\n",
       "overwhelmed   0\n",
       "paying        0\n",
       "peace         0\n",
       "perform       0\n",
       "...          ..\n",
       "bhagavad      1\n",
       "geet          1\n",
       "gita          1\n",
       "lord          1\n",
       "known         1\n",
       "\n",
       "[216 rows x 1 columns]"
      ]
     },
     "execution_count": 80,
     "metadata": {},
     "output_type": "execute_result"
    }
   ],
   "source": [
    "import pandas as pd\n",
    "# print idf values \n",
    "df_bow=pd.DataFrame(BOW_documentum_matrix[0],index=feature_names,columns=[\"cv\"])\n",
    "# sort ascending \n",
    "df_bow.sort_values(by='cv')"
   ]
  },
  {
   "cell_type": "markdown",
   "metadata": {},
   "source": [
    "# TF-IDF"
   ]
  },
  {
   "cell_type": "code",
   "execution_count": 78,
   "metadata": {},
   "outputs": [
    {
     "data": {
      "text/plain": [
       "array([[0.        , 0.        , 0.        , ..., 0.        , 0.        ,\n",
       "        0.        ],\n",
       "       [0.        , 0.        , 0.        , ..., 0.        , 0.        ,\n",
       "        0.        ],\n",
       "       [0.        , 0.        , 0.        , ..., 0.        , 0.        ,\n",
       "        0.        ],\n",
       "       ...,\n",
       "       [0.25944687, 0.        , 0.        , ..., 0.        , 0.        ,\n",
       "        0.        ],\n",
       "       [0.        , 0.        , 0.        , ..., 0.        , 0.        ,\n",
       "        0.        ],\n",
       "       [0.        , 0.        , 0.        , ..., 0.        , 0.        ,\n",
       "        0.        ]])"
      ]
     },
     "execution_count": 78,
     "metadata": {},
     "output_type": "execute_result"
    }
   ],
   "source": [
    "from sklearn.feature_extraction.text import TfidfVectorizer\n",
    "tfidf=TfidfVectorizer()\n",
    "tfidf_documentum_matrix=tfidf.fit_transform(corpus).toarray()\n",
    "feature_names=tfidf.get_feature_names()\n",
    "tfidf_documentum_matrix"
   ]
  },
  {
   "cell_type": "code",
   "execution_count": 79,
   "metadata": {},
   "outputs": [],
   "source": [
    "# print idf values \n",
    "df_tfidf=pd.DataFrame(tfidf_documentum_matrix[0],index=feature_names,columns=[\"tfidf_weights\"])"
   ]
  },
  {
   "cell_type": "code",
   "execution_count": 76,
   "metadata": {},
   "outputs": [
    {
     "data": {
      "text/html": [
       "<div>\n",
       "<style scoped>\n",
       "    .dataframe tbody tr th:only-of-type {\n",
       "        vertical-align: middle;\n",
       "    }\n",
       "\n",
       "    .dataframe tbody tr th {\n",
       "        vertical-align: top;\n",
       "    }\n",
       "\n",
       "    .dataframe thead th {\n",
       "        text-align: right;\n",
       "    }\n",
       "</style>\n",
       "<table border=\"1\" class=\"dataframe\">\n",
       "  <thead>\n",
       "    <tr style=\"text-align: right;\">\n",
       "      <th></th>\n",
       "      <th>tfidf_weights</th>\n",
       "    </tr>\n",
       "  </thead>\n",
       "  <tbody>\n",
       "    <tr>\n",
       "      <th>abide</th>\n",
       "      <td>0.000000</td>\n",
       "    </tr>\n",
       "    <tr>\n",
       "      <th>overwhelmed</th>\n",
       "      <td>0.000000</td>\n",
       "    </tr>\n",
       "    <tr>\n",
       "      <th>paying</th>\n",
       "      <td>0.000000</td>\n",
       "    </tr>\n",
       "    <tr>\n",
       "      <th>peace</th>\n",
       "      <td>0.000000</td>\n",
       "    </tr>\n",
       "    <tr>\n",
       "      <th>perform</th>\n",
       "      <td>0.000000</td>\n",
       "    </tr>\n",
       "    <tr>\n",
       "      <th>...</th>\n",
       "      <td>...</td>\n",
       "    </tr>\n",
       "    <tr>\n",
       "      <th>divine</th>\n",
       "      <td>0.340326</td>\n",
       "    </tr>\n",
       "    <tr>\n",
       "      <th>sung</th>\n",
       "      <td>0.379923</td>\n",
       "    </tr>\n",
       "    <tr>\n",
       "      <th>song</th>\n",
       "      <td>0.379923</td>\n",
       "    </tr>\n",
       "    <tr>\n",
       "      <th>geet</th>\n",
       "      <td>0.379923</td>\n",
       "    </tr>\n",
       "    <tr>\n",
       "      <th>often</th>\n",
       "      <td>0.379923</td>\n",
       "    </tr>\n",
       "  </tbody>\n",
       "</table>\n",
       "<p>216 rows × 1 columns</p>\n",
       "</div>"
      ],
      "text/plain": [
       "             tfidf_weights\n",
       "abide             0.000000\n",
       "overwhelmed       0.000000\n",
       "paying            0.000000\n",
       "peace             0.000000\n",
       "perform           0.000000\n",
       "...                    ...\n",
       "divine            0.340326\n",
       "sung              0.379923\n",
       "song              0.379923\n",
       "geet              0.379923\n",
       "often             0.379923\n",
       "\n",
       "[216 rows x 1 columns]"
      ]
     },
     "execution_count": 76,
     "metadata": {},
     "output_type": "execute_result"
    }
   ],
   "source": [
    "# sort ascending \n",
    "df_tfidf.sort_values(by='tfidf_weights')"
   ]
  },
  {
   "cell_type": "code",
   "execution_count": null,
   "metadata": {},
   "outputs": [],
   "source": []
  }
 ],
 "metadata": {
  "kernelspec": {
   "display_name": "Python 3",
   "language": "python",
   "name": "python3"
  },
  "language_info": {
   "codemirror_mode": {
    "name": "ipython",
    "version": 3
   },
   "file_extension": ".py",
   "mimetype": "text/x-python",
   "name": "python",
   "nbconvert_exporter": "python",
   "pygments_lexer": "ipython3",
   "version": "3.8.5"
  }
 },
 "nbformat": 4,
 "nbformat_minor": 4
}
